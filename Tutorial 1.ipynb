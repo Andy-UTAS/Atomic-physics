{
 "cells": [
  {
   "cell_type": "markdown",
   "id": "5726802b-d091-414b-a3d5-59b9b8be3e2f",
   "metadata": {},
   "source": [
    "# Tutorial 1\n",
    "\n",
    "This notebook is to accompany the first tutorial for the atomic physics course as part of KYA323: Atomic and nuclear physics at the University of Tasmania.\n",
    "\n",
    "**Version**: 1.0  \n",
    "**Created**: 22/07/2024 (AJM)  \n",
    "**Updated**: 22/07/2024 (AJM)"
   ]
  },
  {
   "cell_type": "markdown",
   "id": "adb4d11b-7a0c-4ae1-9577-c031e7374979",
   "metadata": {},
   "source": [
    "## Import packages\n",
    "\n",
    "To streamline operations in Python, packages can be imported to perform a host of various tasks. To make this process as simple as possible, all the required packages are included in the file _[Atomic.py](https://github.com/Andy-UTAS/atomic-physics/blob/master/Atomic.py)_ and thus we can import all of the content: "
   ]
  },
  {
   "cell_type": "code",
   "execution_count": 1,
   "id": "285fae6d-ba5e-4b1a-bd9b-c5dc77831db6",
   "metadata": {
    "tags": []
   },
   "outputs": [
    {
     "name": "stdout",
     "output_type": "stream",
     "text": [
      "Atomic.py - the package for atomic physics content for use in KYA323 has been loaded. \n",
      "\n",
      "Core package versions are as follows:\n",
      "Matplotlib 3.7.1\n",
      "NumPy 1.25.0\n"
     ]
    }
   ],
   "source": [
    "from Atomic import *"
   ]
  },
  {
   "cell_type": "code",
   "execution_count": 4,
   "id": "97ed1568-2290-4d17-bb57-30c87d1d23d2",
   "metadata": {
    "tags": []
   },
   "outputs": [
    {
     "data": {
      "text/plain": [
       "-0.0002113302584271272"
      ]
     },
     "execution_count": 4,
     "metadata": {},
     "output_type": "execute_result"
    }
   ],
   "source": [
    "R_infty*(1/(51**2) - 1/(50**2))"
   ]
  },
  {
   "cell_type": "code",
   "execution_count": 8,
   "id": "6764f1ef-5985-48bf-a2e1-265a6e04bf91",
   "metadata": {
    "tags": []
   },
   "outputs": [
    {
     "data": {
      "text/plain": [
       "0.00038446751249519417"
      ]
     },
     "execution_count": 8,
     "metadata": {},
     "output_type": "execute_result"
    }
   ],
   "source": [
    "1/(51**2)"
   ]
  },
  {
   "cell_type": "code",
   "execution_count": 10,
   "id": "5ae9036a-15b7-42a1-a472-d52f1641ac1b",
   "metadata": {
    "tags": []
   },
   "outputs": [],
   "source": [
    "def rydberg_energy(n1, n2):\n",
    "    return -R_infty*(1/(n1**2) - 1/(n2**2))"
   ]
  },
  {
   "cell_type": "code",
   "execution_count": 18,
   "id": "f39f5bae-1730-41c6-a6c5-0705eac3eb87",
   "metadata": {
    "tags": []
   },
   "outputs": [
    {
     "data": {
      "text/plain": [
       "51.099429140381915"
      ]
     },
     "execution_count": 18,
     "metadata": {},
     "output_type": "execute_result"
    }
   ],
   "source": [
    "(rydberg_energy(51, 50)*e / h) / 1e9"
   ]
  },
  {
   "cell_type": "code",
   "execution_count": 20,
   "id": "7e23d83f-1199-4ffd-841e-77293080ce29",
   "metadata": {
    "tags": []
   },
   "outputs": [
    {
     "data": {
      "text/plain": [
       "0.0002113302584271272"
      ]
     },
     "execution_count": 20,
     "metadata": {},
     "output_type": "execute_result"
    }
   ],
   "source": [
    "rydberg_energy(51, 50)"
   ]
  },
  {
   "cell_type": "code",
   "execution_count": 23,
   "id": "193fb72d-79ab-49e7-8d9e-2b9ea399cea5",
   "metadata": {
    "tags": []
   },
   "outputs": [
    {
     "data": {
      "text/plain": [
       "49.32698053853233"
      ]
     },
     "execution_count": 23,
     "metadata": {},
     "output_type": "execute_result"
    }
   ],
   "source": [
    "13.6 * .15 * 1e-4 * e/h / 1e9"
   ]
  },
  {
   "cell_type": "code",
   "execution_count": 25,
   "id": "ad0955c0-af1d-499a-9bbf-0f579aa5bdfb",
   "metadata": {
    "tags": []
   },
   "outputs": [
    {
     "data": {
      "text/plain": [
       "2.04"
      ]
     },
     "execution_count": 25,
     "metadata": {},
     "output_type": "execute_result"
    }
   ],
   "source": [
    "13.6 * .15"
   ]
  },
  {
   "cell_type": "code",
   "execution_count": 27,
   "id": "43d7232a-38a8-4b0d-b1ea-007336122a14",
   "metadata": {
    "tags": []
   },
   "outputs": [],
   "source": [
    "def atom_size(n):\n",
    "    return a0 * n ** 2"
   ]
  },
  {
   "cell_type": "code",
   "execution_count": 28,
   "id": "349fba92-613e-401c-9790-1879c66f1136",
   "metadata": {
    "tags": []
   },
   "outputs": [
    {
     "data": {
      "text/plain": [
       "1.3229430272575e-07"
      ]
     },
     "execution_count": 28,
     "metadata": {},
     "output_type": "execute_result"
    }
   ],
   "source": [
    "atom_size(50)"
   ]
  },
  {
   "cell_type": "code",
   "execution_count": null,
   "id": "14d7ce2f-66ef-4e1e-a230-cd5fb67406da",
   "metadata": {},
   "outputs": [],
   "source": []
  }
 ],
 "metadata": {
  "kernelspec": {
   "display_name": "Python 3 (ipykernel)",
   "language": "python",
   "name": "python3"
  },
  "language_info": {
   "codemirror_mode": {
    "name": "ipython",
    "version": 3
   },
   "file_extension": ".py",
   "mimetype": "text/x-python",
   "name": "python",
   "nbconvert_exporter": "python",
   "pygments_lexer": "ipython3",
   "version": "3.10.9"
  }
 },
 "nbformat": 4,
 "nbformat_minor": 5
}
